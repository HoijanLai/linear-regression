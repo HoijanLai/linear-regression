{
 "cells": [
  {
   "cell_type": "markdown",
   "metadata": {},
   "source": [
    "# 1 Matrix operations\n",
    "## 1.1 Create a 4*4 identity matrix"
   ]
  },
  {
   "cell_type": "code",
   "execution_count": 1,
   "metadata": {
    "collapsed": true
   },
   "outputs": [],
   "source": [
    "A = [[1,2,3], \n",
    "     [2,3,3], \n",
    "     [1,2,5]]\n",
    "\n",
    "B = [[1,2,3,5], \n",
    "     [2,3,3,5], \n",
    "     [1,2,5,1]]\n",
    "\n",
    "#TODO create a 4*4 identity matrix \n",
    "I = [[1, 0, 0, 0],\n",
    "     [0, 1, 0, 0],\n",
    "     [0, 0, 1, 0],\n",
    "     [0, 0, 0, 1]]"
   ]
  },
  {
   "cell_type": "markdown",
   "metadata": {},
   "source": [
    "## 1.2 get the width and height of a matrix. "
   ]
  },
  {
   "cell_type": "code",
   "execution_count": 2,
   "metadata": {
    "collapsed": false
   },
   "outputs": [],
   "source": [
    "#TODO Get the width and height of a matrix.\n",
    "def shape(M):\n",
    "    if hasattr(M[0], \"__len__\"):\n",
    "        return len(M), len(M[0])\n",
    "    else:\n",
    "        return 1, len(M)"
   ]
  },
  {
   "cell_type": "markdown",
   "metadata": {},
   "source": [
    "## 1.3 round all elements in M to certain decimal points\n",
    "in-place operation, no return value"
   ]
  },
  {
   "cell_type": "code",
   "execution_count": 3,
   "metadata": {
    "collapsed": false
   },
   "outputs": [],
   "source": [
    "#TODO round all elements in M to decPts\n",
    "def matxRound(M, decPts=4):\n",
    "    r, c = shape(M)\n",
    "    if r != 1:\n",
    "        for i in range(r): \n",
    "            for j in range(c):\n",
    "                M[i][j] = round(float(M[i][j]), decPts)\n",
    "    else:\n",
    "        for j in range(c):\n",
    "            M[j] = round(float(M[j]), decPts)"
   ]
  },
  {
   "cell_type": "markdown",
   "metadata": {},
   "source": [
    "## 1.4 compute transpose of M"
   ]
  },
  {
   "cell_type": "code",
   "execution_count": 4,
   "metadata": {
    "collapsed": false
   },
   "outputs": [],
   "source": [
    "#TODO compute transpose of M\n",
    "def transpose(M):\n",
    "    if hasattr(M[0], \"__len__\"):\n",
    "        return list(map(list, zip(*M)))\n",
    "    else:\n",
    "        return [[m] for m in M]\n",
    "    # 2d only"
   ]
  },
  {
   "cell_type": "markdown",
   "metadata": {},
   "source": [
    "## 1.5 compute AB. return None if the dimensions don't match"
   ]
  },
  {
   "cell_type": "code",
   "execution_count": 5,
   "metadata": {
    "collapsed": false
   },
   "outputs": [],
   "source": [
    "#TODO compute AB, return None if the dimensions don't match\n",
    "def dotMultiply(A, B):\n",
    "    rA, cA = shape(A)\n",
    "    rB, cB = shape(B)\n",
    "    mat = []\n",
    "    if cA != rB:\n",
    "        return None\n",
    "    else:\n",
    "        BT = transpose(B)\n",
    "        for i in range(rA):\n",
    "            row = []\n",
    "            for j in range(cB):\n",
    "                row.append(sum([a*b for (a, b) in zip(A[i], BT[j])]))\n",
    "            mat.append(row)\n",
    "        return mat"
   ]
  },
  {
   "cell_type": "markdown",
   "metadata": {},
   "source": [
    "## 1.6 Test your implementation"
   ]
  },
  {
   "cell_type": "code",
   "execution_count": 7,
   "metadata": {
    "collapsed": false
   },
   "outputs": [
    {
     "name": "stdout",
     "output_type": "stream",
     "text": [
      "shape of B: (3, 4) \n",
      "\n",
      "[1.0, 2.0, 3.0, 5.0]\n",
      "[2.0, 3.0, 3.0, 5.0]\n",
      "[1.0, 2.0, 5.0, 1.0]\n",
      "\n",
      "[1.0, 2.0, 1.0]\n",
      "[2.0, 3.0, 2.0]\n",
      "[3.0, 3.0, 5.0]\n",
      "[5.0, 5.0, 1.0]\n",
      "\n",
      "[1.0, 2.0, 3.0, 5.0]\n",
      "[2.0, 3.0, 3.0, 5.0]\n",
      "[1.0, 2.0, 5.0, 1.0]\n"
     ]
    }
   ],
   "source": [
    "def matPrint(M):\n",
    "    for row in M:\n",
    "        print(row)\n",
    "#TODO test the shape function\n",
    "print(\"shape of B:\", shape(B), \"\\n\")\n",
    "#TODO test the round function\n",
    "matxRound(B)\n",
    "matPrint(B)\n",
    "print()\n",
    "#TODO test the transpose funtion\n",
    "matPrint(transpose(B))\n",
    "print()\n",
    "#TODO test the dotMultiply function\n",
    "matPrint(dotMultiply(B, I))"
   ]
  },
  {
   "cell_type": "markdown",
   "metadata": {},
   "source": [
    "# 2 Gaussign Jordan Elimination\n",
    "\n",
    "## 2.1 Compute augmented Matrix "
   ]
  },
  {
   "cell_type": "code",
   "execution_count": 8,
   "metadata": {
    "collapsed": true
   },
   "outputs": [],
   "source": [
    "#TODO augment matrix of matrix A and column vector b, assume A and b are comfortable\n",
    "import copy\n",
    "def augmentMatrix(A, b):\n",
    "    result = copy.deepcopy(A)\n",
    "    for (a, b_elem) in zip(result, b):\n",
    "        a.append(b_elem)\n",
    "    return result"
   ]
  },
  {
   "cell_type": "markdown",
   "metadata": {},
   "source": [
    "## 2.2 Basic row operations\n",
    "1. exchange two rows\n",
    "2. scale a row\n",
    "3. add a scaled row to another\n",
    "\n",
    "in-place operation, no return value"
   ]
  },
  {
   "cell_type": "code",
   "execution_count": 9,
   "metadata": {
    "collapsed": false
   },
   "outputs": [],
   "source": [
    "#TODO r1 <---> r2\n",
    "def swapRows(M, r1, r2):\n",
    "    M[r1], M[r2] = M[r2], M[r1]\n",
    "\n",
    "#TODO r1 <--- r1 * scale\n",
    "def scaleRow(M, r, scale):\n",
    "    M[r] = [e_r*scale for e_r in M[r]]\n",
    "\n",
    "#TODO r1 <--- r1 + r2*scale\n",
    "def addScaledRow(M, r1, r2, scale):\n",
    "    M[r1] = [e_r1 + e_r2*scale for (e_r1, e_r2) in zip(M[r1], M[r2])]"
   ]
  },
  {
   "cell_type": "markdown",
   "metadata": {},
   "source": [
    "## 2.3  Gauss-jordan method to solve Ax = b\n",
    "\n",
    "### 这应该叫列主元素消去法, 高斯约当消去法是一种 $[A|I]$ --> $[I|A^{-1}]$的方法,有一点不一样\n",
    "\n",
    "Pseudo code\n",
    "\n",
    "```\n",
    "def gj_solve(A, b)\n",
    "    test if A and b have same height\n",
    "    Ab = augmentMatrix(A, b) \n",
    "    for every column c of A:\n",
    "        r = argmax(Ab[c..N, c])\n",
    "        if Ab[r, c] == 0, A is singular\n",
    "        swapRow(Ab, r, c)\n",
    "        scaleRow(Ab, c, 1/Ab[c,c])\n",
    "        for all row r other than c:\n",
    "            addScaledRow(Ab, r, c, -Ab[r][c])\n",
    "    return Ab[:, -1]\n",
    "```\n",
    "\n",
    "Make use of augmented matrix and row operations"
   ]
  },
  {
   "cell_type": "code",
   "execution_count": 10,
   "metadata": {
    "collapsed": false
   },
   "outputs": [],
   "source": [
    "#TODO implement gaussian jordan method to solve Ax = b\n",
    "\n",
    "\"\"\" Gauss-jordan method to solve x such that Ax = b.\n",
    "        A: square matrix, list of lists\n",
    "        b: column vector, list of lists\n",
    "        decPts: degree of rounding, default value 4\n",
    "        epsilon: threshold for zero, default value 1.0e-16\n",
    "        \n",
    "    return x such that Ax = b, list of lists \n",
    "    return None if A and b have same height\n",
    "    return None if A is (almost) singular\n",
    "\"\"\"\n",
    "def argmax_col(X, i):\n",
    "    col_i = [x[i] for x in X[i:]]\n",
    "    return col_i.index(max(col_i)) + i\n",
    "\n",
    "\n",
    "def gj_Solve(A, b, decPts=4, epsilon = 1.0e-16):\n",
    " \n",
    "    #test if A and b have same height\n",
    "    nb_row, nb_col = shape(A)\n",
    "    if nb_row != len(b):\n",
    "        print(\"not match\")\n",
    "        return None\n",
    "    #make augment matrix Ab \n",
    "    Ab = augmentMatrix(A, b)\n",
    "    \n",
    "    #for every column of A\n",
    "    for col in range(nb_col):\n",
    "        #In column col under the diagnal, \n",
    "        #find index of the element with largest absolute value  \n",
    "        max_idx = argmax_col(Ab, col)\n",
    "        if abs(Ab[max_idx][col]) < epsilon:\n",
    "            return None\n",
    "        #In column col under the diagnal, \n",
    "        #if the largest absolute value is zero (aka smaller than epsilon), \n",
    "        #then the matrix is singular\n",
    "        #P2.4 Prove the above proposition \n",
    "        \n",
    "        #swap rows to get largest absolute value element on the diagonal\n",
    "        swapRows(Ab, col, max_idx)\n",
    "        #scale the row to make Ab[col][col] equals to 1\n",
    "        scaleRow(Ab, col, 1/Ab[col][col])\n",
    "        #eliminate(make them zero) everything else in column col. \n",
    "        for row in range(nb_row):\n",
    "            if row != col:\n",
    "                addScaledRow(Ab, row, col, -Ab[row][col]/Ab[col][col])\n",
    "    #return the last column \n",
    "    sol = [r[-1] for r in Ab]\n",
    "    matxRound(sol)\n",
    "    return sol"
   ]
  },
  {
   "cell_type": "markdown",
   "metadata": {},
   "source": [
    "## 2.4 Prove the following proposition:\n",
    "\n",
    "**If square matrix A can be divided into four parts: ** \n",
    "\n",
    "$ A = \\begin{bmatrix}\n",
    "    I    & X \\\\\n",
    "    Z    & Y \\\\\n",
    "\\end{bmatrix} $\n",
    "\n",
    "**where I is the identity matrix, Z is all zero and the first column of Y is all zero, then A is singular.**\n",
    "\n",
    "Hint: There are mutiple ways to prove this problem.  \n",
    "- consider the rank of Y and A\n",
    "- consider the determinate of Y and A \n",
    "- consider certain column is the linear combination of other columns"
   ]
  },
  {
   "cell_type": "markdown",
   "metadata": {},
   "source": [
    "TODO Proof: \n",
    "> Since,   \n",
    "  $ |Y| = 0 $ and $Z$ is all zero  \n",
    "  \n",
    "  \n",
    "> Hence,   \n",
    "   $|A| = |I||Y| = 0 $ \n",
    "   \n",
    "   \n",
    "> Which gives that $A$ is singular"
   ]
  },
  {
   "cell_type": "markdown",
   "metadata": {},
   "source": [
    "## 2.5 Test your gj_Solve() implementation"
   ]
  },
  {
   "cell_type": "code",
   "execution_count": 11,
   "metadata": {
    "collapsed": false
   },
   "outputs": [
    {
     "name": "stdout",
     "output_type": "stream",
     "text": [
      "None\n",
      "[1.125, -0.625, 4.375, -1.25]\n",
      "(4, 4)\n",
      "(1, 4)\n",
      "[[3.0], [4.0], [5.0], [6.0]]\n"
     ]
    }
   ],
   "source": [
    "# construct A and b where A is singular\n",
    "A = [[1, 2, 1],\n",
    "     [2, 4, 2],\n",
    "     [3, 2, 1]]\n",
    "b = [3, 4, 5]\n",
    "# construct A and b where A is not singular\n",
    "x = gj_Solve(A, b)\n",
    "\n",
    "print(x)\n",
    "\n",
    "\n",
    "A = [[1, 2, 3, 8],\n",
    "     [3, 2, 1, 2],\n",
    "     [5, 2, 1, 3],\n",
    "     [2, 6, 2, 1]]\n",
    "b = [3, 4, 5, 6]\n",
    "# solve x for  Ax = b\n",
    "\n",
    "x = gj_Solve(A, b)\n",
    "\n",
    "print(x)\n",
    "# compute Ax\n",
    "# compare Ax and b\n",
    "print(shape(A))\n",
    "print(shape(x))\n",
    "bb = dotMultiply(A, transpose(x))\n",
    "print(bb)\n",
    "# TODO"
   ]
  },
  {
   "cell_type": "markdown",
   "metadata": {},
   "source": [
    "# 3 Linear Regression: \n",
    "\n",
    "## 3.1 Compute loss function\n",
    "\n",
    "We define loss funtion E as \n",
    "$$\n",
    "E = \\sum_{i=1}^{n}{(y_i - mx_i - b)^2}\n",
    "$$\n",
    "\n",
    "Proves that \n",
    "$$\n",
    "E = Y^TY -2(Xh)^TY + (Xh)^TXh\n",
    "$$ \n",
    "\n",
    "\n",
    "$$ \n",
    "\\text{,where }\n",
    "Y =  \\begin{bmatrix}\n",
    "    y_1 \\\\\n",
    "    y_2 \\\\\n",
    "    ... \\\\\n",
    "    y_n\n",
    "\\end{bmatrix}\n",
    ",\n",
    "X =  \\begin{bmatrix}\n",
    "    x_1 & 1 \\\\\n",
    "    x_2 & 1\\\\\n",
    "    ... & ...\\\\\n",
    "    x_n & 1 \\\\\n",
    "\\end{bmatrix},\n",
    "h =  \\begin{bmatrix}\n",
    "    m \\\\\n",
    "    b \\\\\n",
    "\\end{bmatrix}\n",
    "$$"
   ]
  },
  {
   "cell_type": "markdown",
   "metadata": {},
   "source": [
    "TODO Proof: \n",
    "> take a exploded form of E\n",
    "$$ E = \\sum_{i=1}^{n}{y_i^2} - \\sum_{i=1}^{n}2(mx_i+b)y_i + \\sum_{i=1}^n(mx_i + b)^2$$\n",
    "> notice that\n",
    "$$ mx_i + b = X_i \\cdot h $$\n",
    "> therefore\n",
    "$$ E = Y^TY - 2(Xh)^TY + (Xh)^TXh $$ "
   ]
  },
  {
   "cell_type": "markdown",
   "metadata": {},
   "source": [
    "## 3.2 Compute the gradient of loss function with respect to parameters \n",
    "\n",
    "Proves that\n",
    "\n",
    "$$\n",
    "\\frac{\\partial E}{\\partial h} = 2X^TXh - 2X^TY\n",
    "$$"
   ]
  },
  {
   "cell_type": "markdown",
   "metadata": {},
   "source": [
    "TODO Proof:\n",
    "> 1. $$ \\frac{\\partial E}{\\partial m} = \\sum_{i=1}^n2x_i(mx_i+b) -\\sum_{i=1}^n2x_iy_i $$\n",
    "> 2. $$ \\frac{\\partial E}{\\partial b} = \\sum_{i=1}^n2(mx_i+b) -\\sum_{i=1}^n2y_i $$\n",
    "> hence \n",
    "$$\n",
    "\\frac{\\partial E}{\\partial h} = \\begin{bmatrix}\n",
    "    \\frac{\\partial E}{\\partial m} \\\\\n",
    "    \\frac{\\partial E}{\\partial b} \\\\\n",
    "\\end{bmatrix} = 2X^TXh - 2X^TY\n",
    "$$"
   ]
  },
  {
   "cell_type": "markdown",
   "metadata": {},
   "source": [
    "## 3.3  Compute linear regression by solving linear equation gradient = 0 "
   ]
  },
  {
   "cell_type": "code",
   "execution_count": 12,
   "metadata": {
    "collapsed": true
   },
   "outputs": [],
   "source": [
    "#TODO implement linear regression \n",
    "'''\n",
    "compute linear regression \n",
    "points: list of (x,y) tuple\n",
    "return m and b\n",
    "'''\n",
    "def linearRegression(points):\n",
    "    X = [[p[0], 1] for p in points]\n",
    "    y = [p[1] for p in points]\n",
    "    A = dotMultiply(transpose(X), X)\n",
    "    b = [dp[0] for dp in dotMultiply(transpose(X), transpose(y))]\n",
    "    h = gj_Solve(A, b)\n",
    "    return h[0], h[1]"
   ]
  },
  {
   "cell_type": "markdown",
   "metadata": {},
   "source": [
    "## 3.4 Test your linear regression implementation"
   ]
  },
  {
   "cell_type": "code",
   "execution_count": 13,
   "metadata": {
    "collapsed": false
   },
   "outputs": [
    {
     "data": {
      "image/png": "[encoded data removed]",
      "text/plain": [
       "<matplotlib.figure.Figure at 0x7f96484db128>"
      ]
     },
     "metadata": {},
     "output_type": "display_data"
    }
   ],
   "source": [
    "#TODO Construct the linear function\n",
    "import random\n",
    "import matplotlib.pyplot as plt\n",
    "X = [x*0.1 for x in range(-100, 100)]\n",
    "m = 5\n",
    "b = 0.3\n",
    "y = [m*x+b+random.gauss(0, 7) for x in X]\n",
    "plt.scatter(X, y, s = 10, linewidths=0, color = 'orange')\n",
    "\n",
    "#TODO Construct points with gaussian noise\n",
    "points = list(zip(X, y))\n",
    "\n",
    "#TODO Compute m and b and compare with ground truth\n",
    "mm, bb = linearRegression(points)\n",
    "\n",
    "plt.plot(X, [mm*x+bb for x in X], color = 'purple')\n",
    "plt.show()"
   ]
  },
  {
   "cell_type": "code",
   "execution_count": null,
   "metadata": {
    "collapsed": true
   },
   "outputs": [],
   "source": []
  }
 ],
 "metadata": {
  "celltoolbar": "Raw Cell Format",
  "kernelspec": {
   "display_name": "Python [py3py]",
   "language": "python",
   "name": "Python [py3py]"
  },
  "language_info": {
   "codemirror_mode": {
    "name": "ipython",
    "version": 3
   },
   "file_extension": ".py",
   "mimetype": "text/x-python",
   "name": "python",
   "nbconvert_exporter": "python",
   "pygments_lexer": "ipython3",
   "version": "3.5.2"
  }
 },
 "nbformat": 4,
 "nbformat_minor": 2
}
